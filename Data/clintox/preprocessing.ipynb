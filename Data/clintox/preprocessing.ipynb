{
 "cells": [
  {
   "cell_type": "code",
   "execution_count": 1,
   "metadata": {},
   "outputs": [],
   "source": [
    "import numpy as np\n",
    "import pandas as pd"
   ]
  },
  {
   "cell_type": "code",
   "execution_count": 2,
   "metadata": {},
   "outputs": [
    {
     "name": "stdout",
     "output_type": "stream",
     "text": [
      "1484\n"
     ]
    },
    {
     "data": {
      "text/html": [
       "<div>\n",
       "<style scoped>\n",
       "    .dataframe tbody tr th:only-of-type {\n",
       "        vertical-align: middle;\n",
       "    }\n",
       "\n",
       "    .dataframe tbody tr th {\n",
       "        vertical-align: top;\n",
       "    }\n",
       "\n",
       "    .dataframe thead th {\n",
       "        text-align: right;\n",
       "    }\n",
       "</style>\n",
       "<table border=\"1\" class=\"dataframe\">\n",
       "  <thead>\n",
       "    <tr style=\"text-align: right;\">\n",
       "      <th></th>\n",
       "      <th>smiles</th>\n",
       "      <th>FDA_APPROVED</th>\n",
       "      <th>CT_TOX</th>\n",
       "    </tr>\n",
       "  </thead>\n",
       "  <tbody>\n",
       "    <tr>\n",
       "      <th>0</th>\n",
       "      <td>*C(=O)[C@H](CCCCNC(=O)OCCOC)NC(=O)OCCOC</td>\n",
       "      <td>1</td>\n",
       "      <td>0</td>\n",
       "    </tr>\n",
       "    <tr>\n",
       "      <th>1</th>\n",
       "      <td>[C@@H]1([C@@H]([C@@H]([C@H]([C@@H]([C@@H]1Cl)C...</td>\n",
       "      <td>1</td>\n",
       "      <td>0</td>\n",
       "    </tr>\n",
       "    <tr>\n",
       "      <th>2</th>\n",
       "      <td>[C@H]([C@@H]([C@@H](C(=O)[O-])O)O)([C@H](C(=O)...</td>\n",
       "      <td>1</td>\n",
       "      <td>0</td>\n",
       "    </tr>\n",
       "    <tr>\n",
       "      <th>3</th>\n",
       "      <td>[H]/[NH+]=C(/C1=CC(=O)/C(=C\\C=c2ccc(=C([NH3+])...</td>\n",
       "      <td>1</td>\n",
       "      <td>0</td>\n",
       "    </tr>\n",
       "    <tr>\n",
       "      <th>4</th>\n",
       "      <td>[H]/[NH+]=C(\\N)/c1ccc(cc1)OCCCCCOc2ccc(cc2)/C(...</td>\n",
       "      <td>1</td>\n",
       "      <td>0</td>\n",
       "    </tr>\n",
       "  </tbody>\n",
       "</table>\n",
       "</div>"
      ],
      "text/plain": [
       "                                              smiles  FDA_APPROVED  CT_TOX\n",
       "0            *C(=O)[C@H](CCCCNC(=O)OCCOC)NC(=O)OCCOC             1       0\n",
       "1  [C@@H]1([C@@H]([C@@H]([C@H]([C@@H]([C@@H]1Cl)C...             1       0\n",
       "2  [C@H]([C@@H]([C@@H](C(=O)[O-])O)O)([C@H](C(=O)...             1       0\n",
       "3  [H]/[NH+]=C(/C1=CC(=O)/C(=C\\C=c2ccc(=C([NH3+])...             1       0\n",
       "4  [H]/[NH+]=C(\\N)/c1ccc(cc1)OCCCCCOc2ccc(cc2)/C(...             1       0"
      ]
     },
     "execution_count": 2,
     "metadata": {},
     "output_type": "execute_result"
    }
   ],
   "source": [
    "data = pd.read_csv('./source/clintox.csv',sep=',')\n",
    "print(len(data))\n",
    "data.head()"
   ]
  },
  {
   "cell_type": "code",
   "execution_count": 3,
   "metadata": {},
   "outputs": [
    {
     "data": {
      "text/html": [
       "<div>\n",
       "<style scoped>\n",
       "    .dataframe tbody tr th:only-of-type {\n",
       "        vertical-align: middle;\n",
       "    }\n",
       "\n",
       "    .dataframe tbody tr th {\n",
       "        vertical-align: top;\n",
       "    }\n",
       "\n",
       "    .dataframe thead th {\n",
       "        text-align: right;\n",
       "    }\n",
       "</style>\n",
       "<table border=\"1\" class=\"dataframe\">\n",
       "  <thead>\n",
       "    <tr style=\"text-align: right;\">\n",
       "      <th></th>\n",
       "      <th>smiles</th>\n",
       "      <th>FDA_APPROVED</th>\n",
       "      <th>CT_TOX</th>\n",
       "    </tr>\n",
       "  </thead>\n",
       "  <tbody>\n",
       "    <tr>\n",
       "      <th>0</th>\n",
       "      <td>*C(=O)[C@H](CCCCNC(=O)OCCOC)NC(=O)OCCOC</td>\n",
       "      <td>1</td>\n",
       "      <td>0</td>\n",
       "    </tr>\n",
       "    <tr>\n",
       "      <th>1</th>\n",
       "      <td>[C@@H]1([C@@H]([C@@H]([C@H]([C@@H]([C@@H]1Cl)C...</td>\n",
       "      <td>1</td>\n",
       "      <td>0</td>\n",
       "    </tr>\n",
       "    <tr>\n",
       "      <th>2</th>\n",
       "      <td>[C@H]([C@@H]([C@@H](C(=O)[O-])O)O)([C@H](C(=O)...</td>\n",
       "      <td>1</td>\n",
       "      <td>0</td>\n",
       "    </tr>\n",
       "    <tr>\n",
       "      <th>3</th>\n",
       "      <td>[H]/[NH+]=C(/C1=CC(=O)/C(=C\\C=c2ccc(=C([NH3+])...</td>\n",
       "      <td>1</td>\n",
       "      <td>0</td>\n",
       "    </tr>\n",
       "    <tr>\n",
       "      <th>4</th>\n",
       "      <td>[H]/[NH+]=C(\\N)/c1ccc(cc1)OCCCCCOc2ccc(cc2)/C(...</td>\n",
       "      <td>1</td>\n",
       "      <td>0</td>\n",
       "    </tr>\n",
       "  </tbody>\n",
       "</table>\n",
       "</div>"
      ],
      "text/plain": [
       "                                              smiles  FDA_APPROVED  CT_TOX\n",
       "0            *C(=O)[C@H](CCCCNC(=O)OCCOC)NC(=O)OCCOC             1       0\n",
       "1  [C@@H]1([C@@H]([C@@H]([C@H]([C@@H]([C@@H]1Cl)C...             1       0\n",
       "2  [C@H]([C@@H]([C@@H](C(=O)[O-])O)O)([C@H](C(=O)...             1       0\n",
       "3  [H]/[NH+]=C(/C1=CC(=O)/C(=C\\C=c2ccc(=C([NH3+])...             1       0\n",
       "4  [H]/[NH+]=C(\\N)/c1ccc(cc1)OCCCCCOc2ccc(cc2)/C(...             1       0"
      ]
     },
     "execution_count": 3,
     "metadata": {},
     "output_type": "execute_result"
    }
   ],
   "source": [
    "# 替换所有的空值为-1.0\n",
    "data = data.fillna(-1.0)\n",
    "data.head()"
   ]
  },
  {
   "cell_type": "code",
   "execution_count": 4,
   "metadata": {},
   "outputs": [
    {
     "name": "stdout",
     "output_type": "stream",
     "text": [
      "0 - 10: 78.0\n",
      "10 - 20: 406.0\n",
      "20 - 30: 574.0\n",
      "30 - 40: 265.0\n",
      "40 - 50: 67.0\n",
      "50 - 60: 27.0\n",
      "60 - 70: 19.0\n",
      "70 - 80: 13.0\n",
      "80 - 90: 8.0\n",
      "90 - 100: 11.0\n",
      "100 - 110: 4.0\n",
      "110 - 120: 3.0\n",
      "120 - 130: 2.0\n",
      "130 - 140: 1.0\n",
      "> 140: 0.0\n",
      "max length: 136\n",
      "source: 1484, after sanitize: 1478.0\n"
     ]
    }
   ],
   "source": [
    "import rdkit\n",
    "from rdkit import Chem\n",
    "from rdkit.Chem import AllChem\n",
    "from tqdm import tqdm_notebook\n",
    "\n",
    "# cal the atom num\n",
    "data_smiles = data['smiles'].values.tolist()\n",
    "split_num = 15\n",
    "distributions = np.zeros(split_num)\n",
    "max_length = -1\n",
    "for smile in data_smiles:\n",
    "    mol = Chem.MolFromSmiles(smile)\n",
    "    try:\n",
    "        Chem.SanitizeMol(mol)\n",
    "    except:\n",
    "        continue\n",
    "    atom_num = mol.GetNumAtoms() // 10\n",
    "    if atom_num < split_num - 1:\n",
    "        distributions[atom_num] += 1\n",
    "    else:\n",
    "        distributions[-1] += 1\n",
    "    max_length = mol.GetNumAtoms() if mol.GetNumAtoms() > max_length else max_length\n",
    "\n",
    "for i in range(split_num):\n",
    "    if i < split_num - 1:\n",
    "        print(f'{i*10} - {(i+1) * 10}: {distributions[i]}')\n",
    "    else:\n",
    "        print(f'> {i * 10}: {distributions[i]}')\n",
    "print(f'max length: {max_length}')\n",
    "print(f'source: {len(data_smiles)}, after sanitize: {np.sum(distributions)}')"
   ]
  },
  {
   "cell_type": "code",
   "execution_count": 5,
   "metadata": {},
   "outputs": [
    {
     "data": {
      "application/vnd.jupyter.widget-view+json": {
       "model_id": "6d3515868b9c4436a73d4304a4152402",
       "version_major": 2,
       "version_minor": 0
      },
      "text/plain": [
       "HBox(children=(IntProgress(value=0, max=1484), HTML(value='')))"
      ]
     },
     "metadata": {},
     "output_type": "display_data"
    },
    {
     "name": "stdout",
     "output_type": "stream",
     "text": [
      "\n"
     ]
    }
   ],
   "source": [
    "import rdkit\n",
    "from rdkit import Chem\n",
    "from rdkit.Chem import AllChem\n",
    "from tqdm import tqdm_notebook\n",
    "\n",
    "element_dict = {}\n",
    "\n",
    "data_smiles = data['smiles'].values.tolist()\n",
    "data_labels = data.iloc[:,1:].values.tolist()\n",
    "\n",
    "data_san_mol, data_san_label = [],[]\n",
    "for smile,label in tqdm_notebook(zip(data_smiles, data_labels), total=len(data_smiles)):\n",
    "    mol = Chem.MolFromSmiles(smile)\n",
    "    \n",
    "    # check the sanitizemol\n",
    "    try:\n",
    "        Chem.SanitizeMol(mol)\n",
    "    except:\n",
    "        continue\n",
    "        \n",
    "    # delete the molecule number >= 150\n",
    "    if mol.GetNumAtoms() >= 100:\n",
    "        continue\n",
    "        \n",
    "    data_san_mol.append(mol)\n",
    "    data_san_label.append(label)\n",
    "    \n",
    "    for atom in mol.GetAtoms():\n",
    "        element_dict[atom.GetSymbol()] = atom.GetAtomicNum()"
   ]
  },
  {
   "cell_type": "code",
   "execution_count": 6,
   "metadata": {},
   "outputs": [
    {
     "name": "stdout",
     "output_type": "stream",
     "text": [
      "1468 (1468, 2)\n",
      "{'*': 0, 'C': 6, 'O': 8, 'N': 7, 'Cl': 17, 'H': 1, 'Tc': 43, 'P': 15, 'F': 9, 'S': 16, 'Se': 34, 'B': 5, 'Fe': 26, 'Al': 13, 'Br': 35, 'I': 53, 'Ca': 20, 'Pt': 78, 'Bi': 83, 'Au': 79, 'Tl': 81, 'Cr': 24, 'Cu': 29, 'Mn': 25, 'Zn': 30, 'Si': 14, 'Hg': 80, 'As': 33, 'Ti': 22}\n"
     ]
    }
   ],
   "source": [
    "print(len(data_san_mol), np.array(data_san_label).shape)\n",
    "print(element_dict)"
   ]
  },
  {
   "cell_type": "code",
   "execution_count": 7,
   "metadata": {},
   "outputs": [
    {
     "name": "stdout",
     "output_type": "stream",
     "text": [
      "0 *C(=O)[C@H](CCCCNC(=O)OCCOC)NC(=O)OCCOC [1, 0]\n",
      "1 Cl[C@H]1[C@H](Cl)[C@@H](Cl)[C@@H](Cl)[C@H](Cl)[C@H]1Cl [1, 0]\n",
      "2 O=C([O-])[C@@H](O)[C@@H](O)[C@H](O)[C@@H](O)C(=O)[O-] [1, 0]\n",
      "3 [H]/[NH+]=C(\\N)C1=CC(=O)/C(=C\\C=c2ccc(=C(N)[NH3+])cc2)C=C1 [1, 0]\n",
      "4 [H]/[NH+]=C(\\N)c1ccc(OCCCCCOc2ccc(/C(N)=[NH+]/[H])cc2)cc1 [1, 0]\n",
      "5 O=[N+]([O-])[O-] [1, 0]\n",
      "6 [N]=O [1, 0]\n",
      "7 O=[99Tc](=O)(=O)[O-] [1, 0]\n",
      "8 O=P([O-])([O-])F [1, 0]\n",
      "9 O=S(=O)([O-])[O-] [1, 0]\n",
      "10 O=S([O-])([O-])=S [1, 0]\n",
      "11 [Se] [0, 1]\n",
      "12 CC(C)C[C@H](NC(=O)[C@H](Cc1ccccc1)NC(=O)c1cnccn1)B(O)O [1, 0]\n",
      "13 CC(C)C[C@H](NC(=O)[C@H](Cc1ccccc1)NC(=O)c1cnccn1)B(O)O [0, 1]\n",
      "14 CC(C)C[C@H](NC(=O)CNC(=O)c1cc(Cl)ccc1Cl)B(O)O [0, 1]\n",
      "15 C#CC1(OC(N)=O)CCCCC1 [1, 0]\n",
      "16 C#CC[NH2+][C@@H]1CCc2ccccc21 [1, 0]\n",
      "17 C#CCC(Cc1cnc2nc(N)nc(N)c2n1)c1ccc(C(=O)N[C@@H](CCC(=O)[O-])C(=O)[O-])cc1 [1, 0]\n",
      "18 C#N [1, 0]\n",
      "19 N#C[Fe-2](C#N)(C#N)(C#N)(C#N)N=O [1, 0]\n",
      "20 O=C1O[C@H]([C@@H](O)CO)C([O-])=C1O [1, 0]\n",
      "21 [NH3+][C@@H](CS)C(=O)[O-] [1, 0]\n",
      "22 OC[C@H]1O[C@](O)(CO)[C@@H](O)[C@@H]1O[C@@H]1O[C@H](CO)[C@H](O)[C@H](O)[C@H]1O [1, 0]\n",
      "23 O=S(=O)(OC[C@H]1O[C@@H](O[C@]2(COS(=O)(=O)O[Al](O)O)O[C@H](OS(=O)(=O)O[Al](O)O)[C@@H](OS(=O)(=O)O[Al](O)O)[C@@H]2OS(=O)(=O)O[Al](O)O)[C@H](OS(=O)(=O)O[Al](O)O)[C@@H](OS(=O)(=O)O[Al](O)O)[C@@H]1OS(=O)(=O)O[Al](O)O)O[Al](O)O [1, 0]\n",
      "24 OC[C@H]1O[C@H](O)[C@H](F)[C@@H](O)[C@@H]1O [1, 0]\n",
      "25 OC[C@H]1O[C@H](O[C@]2(CO)O[C@H](CO)[C@@H](O)[C@@H]2O)[C@H](O)[C@@H](O)[C@@H]1O [1, 0]\n",
      "26 O=C1O[C@H](CO)[C@@H](O)[C@H](O)[C@H]1O [1, 0]\n",
      "27 O=C[C@H](O)[C@@H](O)[C@H](O)CO [1, 0]\n",
      "28 OC[C@@H](O)[C@@H](O)[C@H](O)[C@H](O)CO [1, 0]\n",
      "29 O=C([O-])[C@H](O)[C@@H](O)[C@H](O)[C@H](O)CO [1, 0]\n",
      "30 OC[C@H](O)[C@@H](O)[C@H](O)[C@H](O)CO [1, 0]\n",
      "31 NC(N)=[NH2+] [1, 0]\n",
      "32 FC(F)(F)C(F)(F)C(F)(F)C(F)(F)C(F)(F)C(F)(F)C(F)(F)C(F)(F)Br [1, 0]\n",
      "33 FC(F)(F)C(F)(F)C(F)(F)C(F)(F)C(F)(F)C(F)(F)F [1, 0]\n",
      "34 O=C([O-])C(O)C(O)C(=O)[O-] [1, 0]\n",
      "35 O=C([O-])C(S)C(S)C(=O)[O-] [1, 0]\n",
      "36 O=P([O-])([O-])OCC(Cl)(Cl)Cl [1, 0]\n",
      "37 [NH3+]C(CO)(CO)CO [1, 0]\n",
      "38 OCC(O)CO [1, 0]\n",
      "39 O=[N+]([O-])OCC(CO[N+](=O)[O-])O[N+](=O)[O-] [1, 0]\n",
      "40 OCC(S)CS [1, 0]\n",
      "41 FC(F)(F)C(F)(F)C(F)(F)F [1, 0]\n",
      "42 FC(F)(F)C(Cl)Br [1, 0]\n",
      "43 FC(F)OC(Cl)C(F)(F)F [1, 0]\n",
      "44 FC(F)OC(F)C(F)(F)F [1, 0]\n",
      "45 FC(F)=C(F)F [1, 0]\n",
      "46 [NH3+]CC(=O)[O-] [1, 0]\n",
      "47 O=C([O-])CC(O)(CC(=O)[O-])C(=O)[O-] [1, 0]\n",
      "48 FC(F)OC(F)(F)C(F)Cl [1, 0]\n",
      "49 O=C([O-])/C=C/C(=O)[O-] [1, 0]\n",
      "50 NC(N)=[NH+]CCC[C@H]([NH3+])C(=O)[O-] [1, 0]\n",
      "51 NCC[NH2+]CCNCC[NH2+]CCN [1, 0]\n",
      "52 [NH3+]CCC(O)(P(=O)([O-])[O-])P(=O)([O-])[O-] [1, 0]\n",
      "53 [NH3+]CCC[NH2+]CCSP(=O)([O-])[O-] [1, 0]\n",
      "54 [NH3+]CCCC([NH3+])(C(=O)[O-])C(F)F [1, 0]\n",
      "55 [NH3+]CCCC(O)(P(=O)([O-])[O-])P(=O)([O-])[O-] [1, 0]\n",
      "56 O=C([O-])CCC(=O)[O-] [1, 0]\n",
      "57 [NH3+]CC(=O)CCC(=O)[O-] [1, 0]\n",
      "58 O=C([O-])CCCO [1, 0]\n",
      "59 NC(=O)CC[C@H]([NH3+])C(=O)[O-] [1, 0]\n",
      "60 [NH3+][C@@H](CCC(=O)N[C@@H](CSSC[C@H](NC(=O)CC[C@H]([NH3+])C(=O)[O-])C(=O)NCC(=O)[O-])C(=O)NCC(=O)[O-])C(=O)[O-] [1, 0]\n",
      "61 [NH3+]CCCCCC(=O)[O-] [1, 0]\n",
      "62 O=C([O-])CCCCCCCC(=O)[O-] [1, 0]\n",
      "63 O=C([O-])CN(CC[NH+](CC(=O)[O-])CC(=O)[O-])CC(=O)[O-] [1, 0]\n",
      "64 O=C([O-])CN(CC[NH+](CC(=O)[O-])CC(=O)[O-])CC[NH+](CC(=O)[O-])CC(=O)[O-] [1, 0]\n",
      "65 NCC[NH2+]CCNCC[NH3+] [1, 0]\n",
      "66 O=C(NCC(O)CO)c1c(I)c(C(=O)NCC(O)CO)c(I)c(N(CCO)C(=O)CO)c1I [1, 0]\n",
      "67 O=S(=O)([O-])CCS [1, 0]\n",
      "68 [NH3+]CCS [1, 0]\n",
      "69 O=C([O-])[O-] [1, 0]\n",
      "70 O=C([O-])P(=O)([O-])[O-] [1, 0]\n",
      "71 NC(N)=O [1, 0]\n",
      "72 NC(=O)NO [1, 0]\n",
      "73 FCOC(C(F)(F)F)C(F)(F)F [1, 0]\n",
      "74 C/[NH+]=C1/CN([O-])C(c2ccccc2)=c2cc(Cl)ccc2=N1 [1, 0]\n",
      "75 C/C=C(C(=C/C)/c1ccc(O)cc1)\\c1ccc(O)cc1 [1, 0]\n",
      "76 C/C=C/C1=C(C(=O)[O-])N2C(=O)[C@@H](NC(=O)[C@H]([NH3+])c3ccc(O)cc3)[C@H]2SC1 [1, 0]\n",
      "77 C/C=C1\\NC(=O)[C@H]2CSSCC/C=C/[C@H](CC(=O)N[C@H](C(C)C)C(=O)N2)OC(=O)[C@H](C(C)C)NC1=O [1, 0]\n",
      "78 NC(=[NH2+])NC(=O)c1nc(Cl)c(N)nc1N [1, 0]\n",
      "79 O=[N+]([O-])O[C@@H]1CO[C@@H]2[C@@H](O)CO[C@H]12 [1, 0]\n",
      "80 [NH3+]C[C@H]1O[C@H](O[C@@H]2[C@@H]([NH3+])C[C@@H]([NH3+])[C@H](O[C@H]3O[C@H](CO)[C@@H](O)[C@H]([NH3+])[C@H]3O)[C@H]2O)[C@H]([NH3+])C[C@@H]1O [1, 0]\n",
      "81 [NH3+]CC[C@H](O)C(=O)N[C@@H]1C[C@H]([NH3+])[C@@H](O[C@H]2O[C@H](C[NH3+])[C@@H](O)[C@H](O)[C@H]2O)[C@H](O)[C@H]1O[C@H]1O[C@H](CO)[C@@H](O)[C@H]([NH3+])[C@H]1O [1, 0]\n",
      "82 OCC[NH+]1C[C@H](O)[C@@H](O)[C@H](O)[C@H]1CO [1, 0]\n",
      "83 Nc1ncn([C@H]2C[C@H](O)[C@@H](CO)O2)c(=O)n1 [0, 1]\n",
      "84 [NH3+]C[C@H]1CC[C@H](C(=O)[O-])CC1 [1, 0]\n",
      "85 NC(=O)N/C=C1\\NC(=O)[C@H](CO)NC(=O)[C@H](CO)NC(=O)[C@@H](NC(=O)C[C@@H]([NH3+])CCC[NH3+])CNC(=O)[C@H]([C@H]2C[C@H](O)[NH+]=C(N)N2)NC1=O [1, 0]\n",
      "86 N#C[C@@H]1C[C@@H]2C[C@@H]2N1C(=O)[C@@H]([NH3+])C12CC3CC(CC(O)(C3)C1)C2 [1, 0]\n",
      "87 O=C([O-])[C@H]1/C(=C/CO)O[C@@H]2CC(=O)N21 [1, 0]\n",
      "88 [NH3+]C[C@@H]1O[C@H](O[C@@H]2[C@@H](CO)O[C@@H](O[C@@H]3[C@@H](O)[C@H]([NH3+])C[C@H]([NH3+])[C@H]3O[C@H]3O[C@H](C[NH3+])[C@@H](O)[C@H](O)[C@H]3[NH3+])[C@@H]2O)[C@H]([NH3+])[C@@H](O)[C@@H]1O [1, 0]\n",
      "89 [NH3+]C[C@H]1O[C@H](O[C@@H]2[C@@H]([NH3+])C[C@@H]([NH3+])[C@H](O[C@H]3O[C@H](CO)[C@@H](O)[C@H]([NH3+])[C@H]3O)[C@H]2O)[C@H](O)[C@@H](O)[C@@H]1O [1, 0]\n",
      "90 [NH3+]C[C@@H]1O[C@H](O[C@@H]2[C@@H](CO)O[C@@H](O[C@@H]3[C@@H](O)[C@H]([NH3+])C[C@H]([NH3+])[C@H]3O[C@H]3O[C@H](CO)[C@@H](O)[C@H](O)[C@H]3[NH3+])[C@@H]2O)[C@H]([NH3+])[C@@H](O)[C@@H]1O [1, 0]\n",
      "91 O=S(=O)([O-])O[C@H]1[C@H](O)CO[C@@H](O[C@@H]2CO[C@@H](O)[C@H](OS(=O)(=O)[O-])[C@H]2OS(=O)(=O)[O-])[C@@H]1OS(=O)(=O)[O-] [1, 0]\n",
      "92 O[C@H]1CO[C@@H]2[C@H](O)CO[C@H]12 [1, 0]\n",
      "93 O=[N+]([O-])O[C@H]1CO[C@H]2[C@@H]1OC[C@H]2O[N+](=O)[O-] [1, 0]\n",
      "94 [NH3+][C@@H]1CONC1=O [1, 0]\n",
      "95 O=C([O-])CCCC[C@@H]1SC[C@@H]2NC(=O)N[C@H]12 [1, 0]\n",
      "96 O=c1[nH]cnc2c1ncn2[C@H]1CC[C@@H](CO)O1 [1, 0]\n",
      "97 Nc1nc(=S)c2[nH]cnc2[nH]1 [1, 0]\n",
      "98 S=c1nc[nH]c2nc[nH]c12 [1, 0]\n",
      "99 Nc1cc(N2CCCCC2)nc(N)[n+]1[O-] [1, 0]\n",
      "100 NC(=O)[C@@H]1CCCN1C(=O)[C@H](Cc1cnc[nH]1)NC(=O)[C@@H]1CCC(=O)N1 [1, 0]\n",
      "96\n"
     ]
    }
   ],
   "source": [
    "# Check list order\n",
    "for idx,(mol,label) in enumerate(zip(data_san_mol, data_san_label)):\n",
    "    print(idx, Chem.MolToSmiles(mol), label)\n",
    "    if idx >= 100:\n",
    "        break\n",
    "\n",
    "max_length = max([mol.GetNumAtoms() for mol in data_san_mol])\n",
    "print(max_length)"
   ]
  },
  {
   "cell_type": "code",
   "execution_count": 8,
   "metadata": {},
   "outputs": [],
   "source": [
    "# store as a pickle file\n",
    "import pickle as pkl\n",
    "with open('./preprocess/clintox.pickle','wb') as fw:\n",
    "    pkl.dump([data_san_mol, data_san_label],fw)"
   ]
  },
  {
   "cell_type": "code",
   "execution_count": 9,
   "metadata": {},
   "outputs": [
    {
     "name": "stdout",
     "output_type": "stream",
     "text": [
      "1468 (1468, 2)\n"
     ]
    }
   ],
   "source": [
    "# read from pickle\n",
    "import pickle as pkl\n",
    "with open('./preprocess/clintox.pickle','rb') as f:\n",
    "    [data_san_mol, data_san_label] = pkl.load(f)\n",
    "print(len(data_san_mol), np.array(data_san_label).shape)"
   ]
  },
  {
   "cell_type": "code",
   "execution_count": null,
   "metadata": {},
   "outputs": [],
   "source": []
  },
  {
   "cell_type": "code",
   "execution_count": null,
   "metadata": {},
   "outputs": [],
   "source": []
  }
 ],
 "metadata": {
  "kernelspec": {
   "display_name": "Python 3",
   "language": "python",
   "name": "python3"
  },
  "language_info": {
   "codemirror_mode": {
    "name": "ipython",
    "version": 3
   },
   "file_extension": ".py",
   "mimetype": "text/x-python",
   "name": "python",
   "nbconvert_exporter": "python",
   "pygments_lexer": "ipython3",
   "version": "3.7.3"
  }
 },
 "nbformat": 4,
 "nbformat_minor": 2
}
