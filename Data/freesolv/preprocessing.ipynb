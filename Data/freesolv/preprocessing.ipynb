{
 "cells": [
  {
   "cell_type": "code",
   "execution_count": 1,
   "metadata": {},
   "outputs": [],
   "source": [
    "import pandas as pd\n",
    "import numpy as np"
   ]
  },
  {
   "cell_type": "code",
   "execution_count": 2,
   "metadata": {},
   "outputs": [
    {
     "name": "stdout",
     "output_type": "stream",
     "text": [
      "642\n"
     ]
    },
    {
     "data": {
      "text/html": [
       "<div>\n",
       "<style scoped>\n",
       "    .dataframe tbody tr th:only-of-type {\n",
       "        vertical-align: middle;\n",
       "    }\n",
       "\n",
       "    .dataframe tbody tr th {\n",
       "        vertical-align: top;\n",
       "    }\n",
       "\n",
       "    .dataframe thead th {\n",
       "        text-align: right;\n",
       "    }\n",
       "</style>\n",
       "<table border=\"1\" class=\"dataframe\">\n",
       "  <thead>\n",
       "    <tr style=\"text-align: right;\">\n",
       "      <th></th>\n",
       "      <th>iupac</th>\n",
       "      <th>smiles</th>\n",
       "      <th>expt</th>\n",
       "      <th>calc</th>\n",
       "    </tr>\n",
       "  </thead>\n",
       "  <tbody>\n",
       "    <tr>\n",
       "      <th>0</th>\n",
       "      <td>4-methoxy-N,N-dimethyl-benzamide</td>\n",
       "      <td>CN(C)C(=O)c1ccc(cc1)OC</td>\n",
       "      <td>-11.01</td>\n",
       "      <td>-9.625</td>\n",
       "    </tr>\n",
       "    <tr>\n",
       "      <th>1</th>\n",
       "      <td>methanesulfonyl chloride</td>\n",
       "      <td>CS(=O)(=O)Cl</td>\n",
       "      <td>-4.87</td>\n",
       "      <td>-6.219</td>\n",
       "    </tr>\n",
       "    <tr>\n",
       "      <th>2</th>\n",
       "      <td>3-methylbut-1-ene</td>\n",
       "      <td>CC(C)C=C</td>\n",
       "      <td>1.83</td>\n",
       "      <td>2.452</td>\n",
       "    </tr>\n",
       "    <tr>\n",
       "      <th>3</th>\n",
       "      <td>2-ethylpyrazine</td>\n",
       "      <td>CCc1cnccn1</td>\n",
       "      <td>-5.45</td>\n",
       "      <td>-5.809</td>\n",
       "    </tr>\n",
       "    <tr>\n",
       "      <th>4</th>\n",
       "      <td>heptan-1-ol</td>\n",
       "      <td>CCCCCCCO</td>\n",
       "      <td>-4.21</td>\n",
       "      <td>-2.917</td>\n",
       "    </tr>\n",
       "  </tbody>\n",
       "</table>\n",
       "</div>"
      ],
      "text/plain": [
       "                              iupac                  smiles   expt   calc\n",
       "0  4-methoxy-N,N-dimethyl-benzamide  CN(C)C(=O)c1ccc(cc1)OC -11.01 -9.625\n",
       "1          methanesulfonyl chloride            CS(=O)(=O)Cl  -4.87 -6.219\n",
       "2                 3-methylbut-1-ene                CC(C)C=C   1.83  2.452\n",
       "3                   2-ethylpyrazine              CCc1cnccn1  -5.45 -5.809\n",
       "4                       heptan-1-ol                CCCCCCCO  -4.21 -2.917"
      ]
     },
     "execution_count": 2,
     "metadata": {},
     "output_type": "execute_result"
    }
   ],
   "source": [
    "data = pd.read_csv('./source/freesolv.csv',sep=',')\n",
    "print(len(data))\n",
    "data.head()"
   ]
  },
  {
   "cell_type": "code",
   "execution_count": 3,
   "metadata": {},
   "outputs": [
    {
     "name": "stdout",
     "output_type": "stream",
     "text": [
      "0 - 10: 441.0\n",
      "10 - 20: 188.0\n",
      "20 - 30: 13.0\n",
      "30 - 40: 0.0\n",
      "40 - 50: 0.0\n",
      "50 - 60: 0.0\n",
      "60 - 70: 0.0\n",
      "70 - 80: 0.0\n",
      "80 - 90: 0.0\n",
      "90 - 100: 0.0\n",
      "> 100: 0.0\n",
      "max length: 24\n",
      "source: 642, after sanitize: 642.0\n"
     ]
    }
   ],
   "source": [
    "import rdkit\n",
    "from rdkit import Chem\n",
    "from rdkit.Chem import AllChem\n",
    "from tqdm import tqdm_notebook\n",
    "\n",
    "# cal the atom num\n",
    "data_smiles = data['smiles'].values.tolist()\n",
    "data_labels = data['expt'].values.tolist()\n",
    "distributions = np.zeros(11)\n",
    "max_length = -1\n",
    "for smile in data_smiles:\n",
    "    mol = Chem.MolFromSmiles(smile)\n",
    "    try:\n",
    "        Chem.SanitizeMol(mol)\n",
    "    except:\n",
    "        continue\n",
    "    atom_num = mol.GetNumAtoms() // 10\n",
    "    if atom_num < 10:\n",
    "        distributions[atom_num] += 1\n",
    "    else:\n",
    "        distributions[-1] += 1\n",
    "    max_length = mol.GetNumAtoms() if mol.GetNumAtoms() > max_length else max_length\n",
    "\n",
    "for i in range(11):\n",
    "    if i < 10:\n",
    "        print(f'{i*10} - {(i+1) * 10}: {distributions[i]}')\n",
    "    else:\n",
    "        print(f'> {i * 10}: {distributions[i]}')\n",
    "print(f'max length: {max_length}')\n",
    "print(f'source: {len(data_smiles)}, after sanitize: {np.sum(distributions)}')"
   ]
  },
  {
   "cell_type": "code",
   "execution_count": 4,
   "metadata": {},
   "outputs": [
    {
     "data": {
      "application/vnd.jupyter.widget-view+json": {
       "model_id": "94a0445767ee40ecbb8ee0e6043034e3",
       "version_major": 2,
       "version_minor": 0
      },
      "text/plain": [
       "HBox(children=(IntProgress(value=0, max=642), HTML(value='')))"
      ]
     },
     "metadata": {},
     "output_type": "display_data"
    },
    {
     "name": "stdout",
     "output_type": "stream",
     "text": [
      "\n"
     ]
    }
   ],
   "source": [
    "import rdkit\n",
    "from rdkit import Chem\n",
    "from rdkit.Chem import AllChem\n",
    "from tqdm import tqdm_notebook\n",
    "\n",
    "element_dict = {}\n",
    "data_smile = data['smiles'].values.tolist()\n",
    "data_label = data['expt'].values.tolist()\n",
    "\n",
    "data_san_mol,data_san_label = [],[]\n",
    "for smile,label in tqdm_notebook(list(zip(data_smile, data_label))):\n",
    "    mol=Chem.MolFromSmiles(smile)\n",
    "    \n",
    "    # check the sanitizemol\n",
    "    try:\n",
    "        Chem.SanitizeMol(mol)\n",
    "    except:\n",
    "        continue\n",
    "        \n",
    "    # delete the molecule number >= 100\n",
    "    if mol.GetNumAtoms() >= 100:\n",
    "        continue\n",
    "    \n",
    "    data_san_mol.append(mol)\n",
    "    data_san_label.append(label)\n",
    "    \n",
    "    for atom in mol.GetAtoms():\n",
    "        element_dict[atom.GetSymbol()] = atom.GetAtomicNum()  "
   ]
  },
  {
   "cell_type": "code",
   "execution_count": 5,
   "metadata": {},
   "outputs": [
    {
     "name": "stdout",
     "output_type": "stream",
     "text": [
      "642 642 -3.8030062305295944 3.844822204602953\n",
      "{'C': 6, 'N': 7, 'O': 8, 'S': 16, 'Cl': 17, 'Br': 35, 'P': 15, 'F': 9, 'I': 53}\n"
     ]
    }
   ],
   "source": [
    "data_mean = np.mean(data_san_label)\n",
    "data_std = np.std(data_san_label)\n",
    "print(len(data_san_mol), len(data_san_label),data_mean, data_std)\n",
    "print(element_dict)"
   ]
  },
  {
   "cell_type": "code",
   "execution_count": 6,
   "metadata": {},
   "outputs": [
    {
     "name": "stdout",
     "output_type": "stream",
     "text": [
      "0 COc1ccc(C(=O)N(C)C)cc1 -11.01\n",
      "1 CS(=O)(=O)Cl -4.87\n",
      "2 C=CC(C)C 1.83\n",
      "3 CCc1cnccn1 -5.45\n",
      "4 CCCCCCCO -4.21\n",
      "5 Cc1cc(C)cc(O)c1 -6.27\n",
      "6 CC(C)C(C)C 2.34\n",
      "7 CCCC(C)(C)O -3.92\n",
      "8 C[C@H]1CCCC[C@H]1C 1.58\n",
      "9 CC[C@H](C)O -4.62\n",
      "10 BrCBr -1.96\n",
      "11 CC[C@@H](O)C(C)C -3.88\n",
      "12 CCc1ccccn1 -4.33\n",
      "13 CCCCC(=O)OCC -2.49\n",
      "14 Sc1ccccc1 -2.55\n",
      "15 CC(C)=CCC/C(C)=C\\CO -4.78\n",
      "16 c1ccc2c(c1)CCC2 -1.46\n",
      "17 CCOc1ccccc1 -2.22\n",
      "18 Oc1ccc(Br)cc1 -5.85\n",
      "19 CCCC(C)(C)C 2.88\n",
      "20 CC(=O)OCCOC(C)=O -6.34\n",
      "21 CCOP(=S)(OCC)SCSP(=S)(OCC)OCC -6.1\n",
      "22 OC1CCCCCC1 -5.48\n",
      "23 COC(=O)C1CC1 -4.1\n",
      "24 N#Cc1ccccc1 -4.1\n",
      "25 CCCCC#N -3.52\n",
      "26 CC(C)(C)O -4.47\n",
      "27 CC(C)C(=O)C(C)C -2.74\n",
      "28 CCC=O -3.43\n",
      "29 CN(C)C=O -7.81\n",
      "30 Cc1ccc(C)cc1 -0.8\n",
      "31 C=CCC=C 0.93\n",
      "32 Cc1cccc(Nc2ccccc2C(=O)O)c1C -6.78\n",
      "33 CN(C)C(=O)c1ccccc1 -9.29\n",
      "34 CCNCC -4.07\n",
      "35 CC(C)(C)c1ccc(O)cc1 -5.91\n",
      "36 CC(C)CCOC=O -2.13\n",
      "37 CCCCCCCCCCO -3.64\n",
      "38 CCOC(=O)CC -2.68\n",
      "39 CCCCCCCCC 3.13\n",
      "40 CNC(C)=O -10.0\n",
      "41 C=CCCCCCCC 2.06\n",
      "42 Oc1ccc2ccccc2c1 -8.11\n",
      "43 Clc1ccc(Cl)c(Cl)c1 -1.12\n",
      "44 OC[C@@H](O)[C@@H](O)[C@H](O)[C@H](O)CO -23.62\n",
      "45 CCCC(=O)OC -2.83\n",
      "46 O=Cc1ccccc1O -4.68\n",
      "47 C1CNC1 -5.56\n",
      "48 CCCNCCC -3.65\n",
      "49 Nc1ccccc1 -5.49\n",
      "50 FC(F)(F)F 3.12\n",
      "51 CC[C@@H](C)CO -4.42\n",
      "52 Oc1ccccc1I -6.2\n",
      "53 COc1cccc(OC)c1O -6.96\n",
      "54 C#CCC -0.16\n",
      "55 FC(F)(F)c1ccccc1 -0.25\n",
      "56 NN -9.3\n",
      "57 Cc1ccccn1 -4.63\n",
      "58 CCNc1nc(Cl)nc(NCC)n1 -10.22\n",
      "59 Clc1cc2c(cc1Cl)Oc1ccccc1O2 -3.56\n",
      "60 CCCCCCCCN -3.65\n",
      "61 N -4.29\n",
      "62 FC(F)(F)c1ccccc1C(F)(F)F 1.07\n",
      "63 COC(=O)c1ccc(O)cc1 -9.51\n",
      "64 CCCCCc1ccccc1 -0.23\n",
      "65 CC(F)F -0.11\n",
      "66 Nc1cnn(-c2ccccc2)c(=O)c1Cl -16.43\n",
      "67 C=CC=C 0.56\n",
      "68 CN(C)C -3.2\n",
      "69 CCCCCC(N)=O -9.31\n",
      "70 CC(C)CO[N+](=O)[O-] -1.88\n",
      "71 O=C1c2ccccc2C(=O)c2c(NCCO)cccc21 -14.21\n",
      "72 O=[N+]([O-])OCCO -8.18\n",
      "73 CCCCCCC(C)=O -2.88\n",
      "74 CN1CCNCC1 -7.77\n",
      "75 CCN -4.5\n",
      "76 C1=CC=CCC=C1 -0.99\n",
      "77 c1ccc2c(c1)Cc1ccccc1C2 -3.78\n",
      "78 CC(Cl)Cl -0.84\n",
      "79 COc1cccc(O)c1 -7.66\n",
      "80 c1cc2c3c(cccc3c1)CC2 -3.15\n",
      "81 CCCCCCCCBr 0.52\n",
      "82 OCc1ccccc1 -6.62\n",
      "83 O=c1[nH]cc(Br)c(=O)[nH]1 -18.17\n",
      "84 CCCC 2.1\n",
      "85 CCl -0.55\n",
      "86 CC(C)CBr -0.03\n",
      "87 CC(C)SC(C)C -1.21\n",
      "88 CCCCCCC 2.67\n",
      "89 c1c[nH]cn1 -9.63\n",
      "90 Clc1ccc2c(c1)Oc1cc(Cl)c(Cl)c(Cl)c1O2 -3.84\n",
      "91 CC[C@H](C)n1c(=O)[nH]c(C)c(Br)c1=O -9.73\n",
      "92 ICI -2.49\n",
      "93 CCCSC(=O)N(CCC)CCC -4.13\n",
      "94 C[N+](=O)[O-] -4.02\n",
      "95 CCOC -2.1\n",
      "96 COC(CCl)(OC)OC -4.59\n",
      "97 CC(C)C 2.3\n",
      "98 CC(C)CC(=O)O -6.09\n",
      "99 CCOP(=O)(OCC)O/C(=C/Cl)c1ccc(Cl)cc1Cl -7.07\n",
      "100 CCCCl -0.33\n",
      "\n",
      "max length is 24\n"
     ]
    }
   ],
   "source": [
    "# Check list order\n",
    "for idx,(mol,label) in enumerate(zip(data_san_mol, data_san_label)):\n",
    "    print(idx, Chem.MolToSmiles(mol), label)\n",
    "    if idx >= 100:\n",
    "        break\n",
    "\n",
    "print()\n",
    "max_length = max([mol.GetNumAtoms() for mol in data_san_mol])\n",
    "print(\"max length is {}\".format(max_length))"
   ]
  },
  {
   "cell_type": "code",
   "execution_count": 7,
   "metadata": {},
   "outputs": [],
   "source": [
    "# store as a pickle file\n",
    "import pickle as pkl\n",
    "with open('./preprocess/freesolv.pickle','wb') as fw:\n",
    "    pkl.dump([data_san_mol, data_san_label, data_mean, data_std],fw)"
   ]
  },
  {
   "cell_type": "code",
   "execution_count": 8,
   "metadata": {},
   "outputs": [
    {
     "name": "stdout",
     "output_type": "stream",
     "text": [
      "642 642 -3.8030062305295944 3.844822204602953\n"
     ]
    }
   ],
   "source": [
    "# read from pickle\n",
    "import pickle as pkl\n",
    "with open('./preprocess/freesolv.pickle','rb') as f:\n",
    "    [data_san_mol, data_san_label, data_mean, data_std] = pkl.load(f)\n",
    "print(len(data_san_mol), len(data_san_label),data_mean, data_std)"
   ]
  },
  {
   "cell_type": "code",
   "execution_count": null,
   "metadata": {},
   "outputs": [],
   "source": []
  }
 ],
 "metadata": {
  "kernelspec": {
   "display_name": "Python 3",
   "language": "python",
   "name": "python3"
  },
  "language_info": {
   "codemirror_mode": {
    "name": "ipython",
    "version": 3
   },
   "file_extension": ".py",
   "mimetype": "text/x-python",
   "name": "python",
   "nbconvert_exporter": "python",
   "pygments_lexer": "ipython3",
   "version": "3.7.3"
  }
 },
 "nbformat": 4,
 "nbformat_minor": 2
}
