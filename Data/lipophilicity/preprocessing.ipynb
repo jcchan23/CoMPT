{
 "cells": [
  {
   "cell_type": "code",
   "execution_count": 1,
   "metadata": {},
   "outputs": [],
   "source": [
    "import pandas as pd\n",
    "import numpy as np"
   ]
  },
  {
   "cell_type": "code",
   "execution_count": 2,
   "metadata": {},
   "outputs": [
    {
     "name": "stdout",
     "output_type": "stream",
     "text": [
      "4200\n"
     ]
    },
    {
     "data": {
      "text/html": [
       "<div>\n",
       "<style scoped>\n",
       "    .dataframe tbody tr th:only-of-type {\n",
       "        vertical-align: middle;\n",
       "    }\n",
       "\n",
       "    .dataframe tbody tr th {\n",
       "        vertical-align: top;\n",
       "    }\n",
       "\n",
       "    .dataframe thead th {\n",
       "        text-align: right;\n",
       "    }\n",
       "</style>\n",
       "<table border=\"1\" class=\"dataframe\">\n",
       "  <thead>\n",
       "    <tr style=\"text-align: right;\">\n",
       "      <th></th>\n",
       "      <th>CMPD_CHEMBLID</th>\n",
       "      <th>exp</th>\n",
       "      <th>smiles</th>\n",
       "    </tr>\n",
       "  </thead>\n",
       "  <tbody>\n",
       "    <tr>\n",
       "      <th>0</th>\n",
       "      <td>CHEMBL596271</td>\n",
       "      <td>3.54</td>\n",
       "      <td>Cn1c(CN2CCN(CC2)c3ccc(Cl)cc3)nc4ccccc14</td>\n",
       "    </tr>\n",
       "    <tr>\n",
       "      <th>1</th>\n",
       "      <td>CHEMBL1951080</td>\n",
       "      <td>-1.18</td>\n",
       "      <td>COc1cc(OC)c(cc1NC(=O)CSCC(=O)O)S(=O)(=O)N2C(C)...</td>\n",
       "    </tr>\n",
       "    <tr>\n",
       "      <th>2</th>\n",
       "      <td>CHEMBL1771</td>\n",
       "      <td>3.69</td>\n",
       "      <td>COC(=O)[C@@H](N1CCc2sccc2C1)c3ccccc3Cl</td>\n",
       "    </tr>\n",
       "    <tr>\n",
       "      <th>3</th>\n",
       "      <td>CHEMBL234951</td>\n",
       "      <td>3.37</td>\n",
       "      <td>OC[C@H](O)CN1C(=O)C(Cc2ccccc12)NC(=O)c3cc4cc(C...</td>\n",
       "    </tr>\n",
       "    <tr>\n",
       "      <th>4</th>\n",
       "      <td>CHEMBL565079</td>\n",
       "      <td>3.10</td>\n",
       "      <td>Cc1cccc(C[C@H](NC(=O)c2cc(nn2C)C(C)(C)C)C(=O)N...</td>\n",
       "    </tr>\n",
       "  </tbody>\n",
       "</table>\n",
       "</div>"
      ],
      "text/plain": [
       "   CMPD_CHEMBLID   exp                                             smiles\n",
       "0   CHEMBL596271  3.54            Cn1c(CN2CCN(CC2)c3ccc(Cl)cc3)nc4ccccc14\n",
       "1  CHEMBL1951080 -1.18  COc1cc(OC)c(cc1NC(=O)CSCC(=O)O)S(=O)(=O)N2C(C)...\n",
       "2     CHEMBL1771  3.69             COC(=O)[C@@H](N1CCc2sccc2C1)c3ccccc3Cl\n",
       "3   CHEMBL234951  3.37  OC[C@H](O)CN1C(=O)C(Cc2ccccc12)NC(=O)c3cc4cc(C...\n",
       "4   CHEMBL565079  3.10  Cc1cccc(C[C@H](NC(=O)c2cc(nn2C)C(C)(C)C)C(=O)N..."
      ]
     },
     "execution_count": 2,
     "metadata": {},
     "output_type": "execute_result"
    }
   ],
   "source": [
    "data = pd.read_csv('./source/lipophilicity.csv',sep=',')\n",
    "print(len(data))\n",
    "data.head()"
   ]
  },
  {
   "cell_type": "code",
   "execution_count": 3,
   "metadata": {},
   "outputs": [
    {
     "name": "stdout",
     "output_type": "stream",
     "text": [
      "0 - 10: 8.0\n",
      "10 - 20: 729.0\n",
      "20 - 30: 1819.0\n",
      "30 - 40: 1516.0\n",
      "40 - 50: 117.0\n",
      "50 - 60: 6.0\n",
      "60 - 70: 2.0\n",
      "70 - 80: 1.0\n",
      "80 - 90: 0.0\n",
      "90 - 100: 0.0\n",
      "> 100: 2.0\n",
      "max length: 115\n",
      "source: 4200, after sanitize: 4200.0\n"
     ]
    }
   ],
   "source": [
    "import rdkit\n",
    "from rdkit import Chem\n",
    "from rdkit.Chem import AllChem\n",
    "from tqdm import tqdm_notebook\n",
    "\n",
    "# cal the atom num\n",
    "data_smiles = data['smiles'].values.tolist()\n",
    "data_labels = data['exp'].values.tolist()\n",
    "distributions = np.zeros(11)\n",
    "max_length = -1\n",
    "for smile in data_smiles:\n",
    "    mol = Chem.MolFromSmiles(smile)\n",
    "    try:\n",
    "        Chem.SanitizeMol(mol)\n",
    "    except:\n",
    "        continue\n",
    "    atom_num = mol.GetNumAtoms() // 10\n",
    "    if atom_num < 10:\n",
    "        distributions[atom_num] += 1\n",
    "    else:\n",
    "        distributions[-1] += 1\n",
    "    max_length = mol.GetNumAtoms() if mol.GetNumAtoms() > max_length else max_length\n",
    "\n",
    "for i in range(11):\n",
    "    if i < 10:\n",
    "        print(f'{i*10} - {(i+1) * 10}: {distributions[i]}')\n",
    "    else:\n",
    "        print(f'> {i * 10}: {distributions[i]}')\n",
    "print(f'max length: {max_length}')\n",
    "print(f'source: {len(data_smiles)}, after sanitize: {np.sum(distributions)}')"
   ]
  },
  {
   "cell_type": "code",
   "execution_count": 4,
   "metadata": {},
   "outputs": [
    {
     "data": {
      "application/vnd.jupyter.widget-view+json": {
       "model_id": "be6db0e1f95d4ce6a8b3d214c43c405d",
       "version_major": 2,
       "version_minor": 0
      },
      "text/plain": [
       "HBox(children=(IntProgress(value=0, max=4200), HTML(value='')))"
      ]
     },
     "metadata": {},
     "output_type": "display_data"
    },
    {
     "name": "stdout",
     "output_type": "stream",
     "text": [
      "\n"
     ]
    }
   ],
   "source": [
    "import rdkit\n",
    "from rdkit import Chem\n",
    "from rdkit.Chem import AllChem\n",
    "from tqdm import tqdm_notebook\n",
    "\n",
    "element_dict = {}\n",
    "data_smile = data['smiles'].values.tolist()\n",
    "data_label = data['exp'].values.tolist()\n",
    "\n",
    "data_san_mol,data_san_label = [],[]\n",
    "for smile,label in tqdm_notebook(list(zip(data_smile, data_label))):\n",
    "    mol=Chem.MolFromSmiles(smile)\n",
    "    \n",
    "    # check the sanitizemol\n",
    "    try:\n",
    "        Chem.SanitizeMol(mol)\n",
    "    except:\n",
    "        continue\n",
    "        \n",
    "    # delete the molecule number >= 100\n",
    "    if mol.GetNumAtoms() >= 100:\n",
    "        continue\n",
    "        \n",
    "    data_san_mol.append(mol)\n",
    "    data_san_label.append(label)\n",
    "    \n",
    "    for atom in mol.GetAtoms():\n",
    "        element_dict[atom.GetSymbol()] = atom.GetAtomicNum()  "
   ]
  },
  {
   "cell_type": "code",
   "execution_count": 5,
   "metadata": {},
   "outputs": [
    {
     "name": "stdout",
     "output_type": "stream",
     "text": [
      "4198 4198 2.1877108146736544 1.201484223942737\n",
      "{'C': 6, 'N': 7, 'Cl': 17, 'O': 8, 'S': 16, 'F': 9, 'B': 5, 'Br': 35, 'P': 15, 'I': 53, 'Si': 14, 'Se': 34}\n"
     ]
    }
   ],
   "source": [
    "data_mean = np.mean(data_san_label)\n",
    "data_std = np.std(data_san_label)\n",
    "print(len(data_san_mol), len(data_san_label),data_mean, data_std)\n",
    "print(element_dict)"
   ]
  },
  {
   "cell_type": "code",
   "execution_count": 6,
   "metadata": {},
   "outputs": [
    {
     "name": "stdout",
     "output_type": "stream",
     "text": [
      "0 Cn1c(CN2CCN(c3ccc(Cl)cc3)CC2)nc2ccccc21 3.54\n",
      "1 COc1cc(OC)c(S(=O)(=O)N2c3ccccc3CCC2C)cc1NC(=O)CSCC(=O)O -1.18\n",
      "2 COC(=O)[C@H](c1ccccc1Cl)N1CCc2sccc2C1 3.69\n",
      "3 O=C(NC1Cc2ccccc2N(C[C@@H](O)CO)C1=O)c1cc2cc(Cl)sc2[nH]1 3.37\n",
      "4 Cc1cccc(C[C@H](NC(=O)c2cc(C(C)(C)C)nn2C)C(=O)NCC#N)c1 3.1\n",
      "5 OC1(C#Cc2ccc(-c3ccccc3)cc2)CN2CCC1CC2 3.14\n",
      "6 COc1cc(OC)c(S(=O)(=O)NCc2ccccc2N2CCCCC2)cc1NC(=O)CCC(=O)O -0.72\n",
      "7 CNc1cccc(CCOc2ccc(C[C@H](NC(=O)c3c(Cl)cccc3Cl)C(=O)O)cc2C)n1 0.34\n",
      "8 COc1ccc(-c2coc3cc(OC)cc(OC)c3c2=O)cc1 3.05\n",
      "9 Oc1ncnc2scc(-c3ccsc3)c12 2.25\n",
      "10 CS(=O)(=O)c1ccc(Oc2ccc(C#C[C@]3(O)CN4CCC3CC4)cc2)cc1 1.51\n",
      "11 Cc1cc(Nc2nc(N[C@@H](C)c3ccc(F)cn3)c(C#N)nc2C)n[nH]1 2.61\n",
      "12 O=C1CCCCCN1 -0.08\n",
      "13 CCCSc1ncccc1C(=O)N1CCCC1c1ccncc1 1.95\n",
      "14 Cc1ccc(S(=O)(=O)Nc2c(C(=O)NC3CCCCC3C)cnn2-c2ccccc2)cc1 1.34\n",
      "15 Nc1ccc(-c2nc3ccc(O)cc3s2)cc1 3.2\n",
      "16 COc1ccc(N2CCN(C(=O)[C@@H]3CCCC[C@H]3C(=O)NCC#N)CC2)cc1 1.6\n",
      "17 CCC(COC(=O)c1cc(OC)c(OC)c(OC)c1)(c1ccccc1)N(C)C 3.77\n",
      "18 COc1cc(-n2nnc3cc(-c4ccc(Cl)cc4)sc3c2=O)ccc1N1CC[C@@H](O)C1 3.15\n",
      "19 CO[C@H]1CN(CCn2c(=O)ccc3ccc(C#N)cc32)CC[C@H]1NCc1ccc2c(n1)NC(=O)CO2 0.32\n",
      "20 CC(C)(CCCCCOCCc1ccccc1)NCCc1ccc(O)c2nc(O)sc12 2.92\n",
      "21 O=C(Nc1nnc(C(=O)Nc2ccc(N3CCOCC3)cc2)o1)c1ccc(Cl)cc1 1.92\n",
      "22 COc1ccc(Oc2cccc(CN3CCCC(n4cc(C)c(=O)[nH]c4=O)C3)c2)cc1 3.17\n",
      "23 O=C(O)c1cccc(N2CCC(CN3CCC(Oc4ccc(Cl)c(Cl)c4)CC3)CC2)c1 2.17\n",
      "24 CNCC[C@@H](Oc1ccccc1C)c1ccccc1 1.2\n",
      "25 O=C(CCCc1ccncc1)N1CCN(c2ccc(Cl)cc2Cl)CC1 3.93\n",
      "26 COc1cnc(-c2ccccn2)nc1N(C)C 1.9\n",
      "27 c1ccc(-c2cc(NCCCCCCCCNc3cc(-c4ccccc4)nc4ccccc34)c3ccccc3n2)cc1 2.27\n",
      "28 CSc1c(C(=O)NC2C3CC4CC(C3)CC2C4)cnn1-c1ccc(C(=O)O)cc1 1.2\n",
      "29 CNC1=Nc2ncccc2C(c2ncco2)=NC1c1cccs1 1.14\n",
      "30 CS(=O)(=O)C1(c2cc(N3CC4CCC(C3)O4)nc(-c3cccc4[nH]ccc34)n2)CC1 2.6\n",
      "31 CN(C(=O)Cc1ccc(-n2cnnn2)cc1)[C@@H]1CCN(Cc2ccc(C(F)(F)F)cc2)C[C@@H]1F 3.3\n",
      "32 CC(=O)[C@H]1CC[C@H]2[C@@H]3CCC4=CC(=O)CC[C@]4(C)[C@H]3CC[C@]12C 3.94\n",
      "33 CS(=O)(=O)c1ccccc1C(=O)NC[C@@H](O)CN1CCC(Oc2ccc(Cl)c(Cl)c2)CC1 2.34\n",
      "34 N#Cc1ccccc1Oc1ccc(C(=O)NCc2ccncc2)cc1 2.57\n",
      "35 CN(C)c1ccnc2sc(C(=O)NCc3ccccc3)c(N)c12 3.62\n",
      "36 Cc1ccc(NC(=O)c2cscn2)cc1-n1cnc2ccc(N3CCN(C)CC3)cc2c1=O 2.06\n",
      "37 Cn1cncc1-c1c2c(=O)n(CC3CC3)c(=O)n(CC3CC3)c2nn1Cc1ccnc2ccc(Cl)cc12 4.33\n",
      "38 COc1ccc2ncc(C#N)c(CCN3CCC(NCc4cc5c(cn4)OCS5)CC3)c2c1 2.55\n",
      "39 CNC(=O)C1(N2CCCCC2=O)CCN(CC[C@H](CN(C)C(=O)c2c(OC)c(C#N)cc3ccccc23)c2ccc(Cl)c(Cl)c2)CC1 2.78\n",
      "40 O=C1Nc2ccccc2B(O)N1c1ccccc1 1.4\n",
      "41 CC(C)N(CCC(C(N)=O)(c1ccccc1)c1ccccn1)C(C)C -0.54\n",
      "42 N#CN=C(N)c1sc(Nc2ccccc2)nc1N 2.91\n",
      "43 CCS(=O)(=O)c1ccc(-c2cc(C(F)(F)F)ccc2O[C@H](C)C(=O)O)c(C)c1 -0.4\n",
      "44 N#Cc1ccc(F)c(-c2cc(C(F)(F)F)ccc2OCC(=O)O)c1 -0.16\n",
      "45 COc1ccc(-c2cc3c(C)nc(N)nc3n([C@H]3CC[C@H](OCCO)CC3)c2=O)cn1 2.2\n",
      "46 CC(Nc1ncnc2ccccc12)c1ccccc1 3.4\n",
      "47 CC(C)c1ccc2oc3nc(N)c(C(=O)O)cc3c(=O)c2c1 1.1\n",
      "48 O=c1[nH]c2c(O)ccc([C@@H](O)CNCCCOCCOCCc3cccc4ccccc34)c2s1 2.28\n",
      "49 COc1ccccc1Cn1c(C)nc2ccccc21 3.47\n",
      "50 O=C(O)c1ccc(NC(=O)c2cc(OCc3ccccc3F)cc(OCc3ccccc3F)c2)nc1 3.0\n",
      "51 NC(Cc1c[nH]c2ccccc12)C(=O)O -1.17\n",
      "52 O=C(O)CCC[C@@H]1c2ccccc2C[C@H]1NC(=O)c1cc2cc(F)ccc2[nH]1 1.95\n",
      "53 CCNC(=O)c1cc2c(-n3ccc(C(F)(F)F)n3)c(-c3cncc(C(=O)O)c3)cnc2[nH]1 -0.99\n",
      "54 Cc1ccc(S(=O)(=O)Nc2c(C(=O)N[C@@H](C)C(C)(C)C)c(C)nn2C2CCCC2)cc1 2.0\n",
      "55 c1ccc(Nc2cc(Nc3ccccc3)[nH]n2)cc1 3.8\n",
      "56 COCCNC(=O)c1cccc(Nc2ncc3cc(-c4ccncc4)ccc3n2)c1 3.21\n",
      "57 CCC(CC)NC(=O)c1cnn(C)c1NS(=O)(=O)c1ccc(C)cc1 0.36\n",
      "58 NC(=O)c1cc(F)cc(O[C@@H]2C[C@@H]3CC[C@H](C2)N3Cc2ccccc2)c1 2.14\n",
      "59 N#Cc1c(-c2ccccc2)nc(SCCc2ccccc2)[nH]c1=O 1.71\n",
      "60 O=C(OC1CN2CCC1CC2)C(O)(c1ccccc1)c1ccccc1 1.19\n",
      "61 Cc1ccccc1NC(=O)CCS(=O)(=O)c1ccc(Br)s1 2.7\n",
      "62 Cc1ncc(-c2nc(Nc3ccc(C(=O)N(C)C)cc3)ncc2F)n1C(C)C 2.77\n",
      "63 COc1cccc(-c2c[nH]c(-c3ccccc3)n2)c1 3.8\n",
      "64 O=C(COc1ccccc1)c1ccccc1 2.87\n",
      "65 COc1cc2ncc(C(N)=O)c(Nc3ccc(F)cc3F)c2cc1NCCN(C)C 1.91\n",
      "66 CO[C@H]1CC[C@]2(CC1)Cc1ccc(OCC(C)C)cc1C21N=C(C)C(N)=N1 3.4\n",
      "67 COc1cc2ncnc(Nc3ccc(F)c(Cl)c3)c2cc1OCCCN1CCCC1 3.13\n",
      "68 O=C1CCOc2cc(COc3ccccc3)ccc21 3.0\n",
      "69 Clc1cccc2cn[nH]c12 2.33\n",
      "70 CNC(=O)c1ccc(CC(=O)N(C)C2CCN(Cc3ccc(C(F)(F)F)cc3)CC2)cc1 2.8\n",
      "71 COCCNCc1ccc(CCNC[C@H](O)c2ccc(O)c3[nH]c(=O)sc23)cc1 -0.54\n",
      "72 C#CCn1c(=O)c2c(-c3cncn3C)n(Cc3ccnc4ccc(Cl)cc34)nc2n(CC2CC2)c1=O 3.16\n",
      "73 C[C@H](NC(=O)c1cccnc1Oc1ccccc1)c1ccccc1 2.91\n",
      "74 O=C(NCC12CC3CC(CC(C3)C1)C2)c1cc(CN2CC3CNCC(C2)O3)ccc1Cl 1.55\n",
      "75 COc1cc(NS(=O)(=O)c2ccc(N)cc2)nc(OC)n1 0.2\n",
      "76 Cc1cc(CCC2CCN(S(=O)(=O)CC3(N(O)C=O)CCOCC3)CC2)c(C)cn1 1.43\n",
      "77 C[C@H](Nc1ncc(F)c(Nc2cc(C3CC3)[nH]n2)n1)c1ncc(F)cn1 2.47\n",
      "78 CC(=O)Nc1ccc2c(c1)c(-c1cc(NC3CC3)n3ncc(C#N)c3n1)cn2CCCO 2.48\n",
      "79 CC1COc2c(N3CCN(C)CC3)c(F)cc3c(=O)c(C(=O)O)cn1c23 -0.45\n",
      "80 CC1(c2nc(N3CCOCC3)ncc2C(=O)N[C@H]2C3CC4CC2C[C@](O)(C4)C3)CC1 2.0\n",
      "81 COC(=O)c1ccc(C)c(NS(=O)(=O)c2ccc3c(c2)c(=O)sn3C)c1 2.6\n",
      "82 COc1ccc(-c2coc3cc(O)cc(O)c3c2=O)cc1 3.5\n",
      "83 CNCCCC12CCC(c3ccccc31)c1ccccc12 0.89\n",
      "84 Oc1cc(-c2ccccc2)nc2ccnn12 1.3\n",
      "85 O=CN1CC=C(c2c(F)cc(N3C[C@H](COc4ccon4)OC3=O)cc2F)CC1 2.01\n",
      "86 C#CC(C)n1c(=O)c2c(-c3cncn3C)n(Cc3ccnc4ccc(Cl)cc34)nc2n(CC2CC2)c1=O 3.59\n",
      "87 C[C@H]1CN(Cc2cc(Cl)ccc2OCC(=O)O)CCN1C(=O)Cc1ccccc1 0.18\n",
      "88 COc1cc(Nc2nc(N[C@@H](C)c3ncc(F)cn3)ncc2Br)n[nH]1 2.6\n",
      "89 Cc1nc(C)c(-c2ccc([C@H]3CC[C@H](CC(=O)O)CC3)c(F)c2)nc1C(N)=O 1.3\n",
      "90 COc1ccnc(CCc2nc3c(C)ccnc3[nH]2)c1 2.1\n",
      "91 Cc1cc(CCCOc2c(Cl)cc(C3=NCCO3)cc2Cl)on1 3.72\n",
      "92 CN(C)C(=O)c1ccc(CN2CCc3cc4nc(N)sc4cc3CC2)cc1 1.72\n",
      "93 COC(=O)[C@H]1[C@@H](O)CC[C@H]2CN3CCc4c([nH]c5ccccc45)[C@@H]3C[C@@H]21 1.65\n",
      "94 CCN1CCN(c2ccc(Nc3cc(N(C)C(=O)Nc4c(Cl)c(OC)cc(OC)c4Cl)ncn3)cc2)CC1 3.7\n",
      "95 CC(C)N(CCCNC(=O)Nc1ccc(C(C)(C)C)cc1)C[C@H]1O[C@@H](n2cnc3c(N)ncnc32)[C@H](O)[C@@H]1O 2.2\n",
      "96 C=CC(=O)Nc1cccc(CN2C(=O)N(c3c(Cl)c(OC)cc(OC)c3Cl)Cc3cnc(NCCCCN(CC)CC)nc32)c1 2.04\n",
      "97 CCSc1c(Cc2ccccc2C(F)(F)F)sc2c1c(=O)n(C)c(=O)n2CC(C)C 4.49\n",
      "98 COc1ccc(Cc2c(N)n[nH]c2N)cc1 0.2\n",
      "99 CCN(CCN(C)C)S(=O)(=O)c1ccc(-c2cnc(N)c(C(=O)Nc3cccnc3)n2)cc1 2.0\n",
      "100 Cc1cn([C@H]2CCCN(S(=O)(=O)c3ccc(O)c(Oc4ccccc4)c3)C2)c(=O)[nH]c1=O 1.49\n",
      "\n",
      "max length is 72\n"
     ]
    }
   ],
   "source": [
    "for idx,(mol,label) in enumerate(zip(data_san_mol, data_san_label)):\n",
    "    print(idx, Chem.MolToSmiles(mol), label)\n",
    "    if idx >= 100:\n",
    "        break\n",
    "        \n",
    "print()\n",
    "max_length = max([mol.GetNumAtoms() for mol in data_san_mol])\n",
    "print(\"max length is {}\".format(max_length))"
   ]
  },
  {
   "cell_type": "code",
   "execution_count": 7,
   "metadata": {},
   "outputs": [],
   "source": [
    "# store as a pickle file\n",
    "import pickle as pkl\n",
    "with open('./preprocess/lipophilicity.pickle','wb') as fw:\n",
    "    pkl.dump([data_san_mol, data_san_label, data_mean, data_std],fw)"
   ]
  },
  {
   "cell_type": "code",
   "execution_count": 8,
   "metadata": {},
   "outputs": [
    {
     "name": "stdout",
     "output_type": "stream",
     "text": [
      "4198 4198 2.1877108146736544 1.201484223942737\n"
     ]
    }
   ],
   "source": [
    "# read from pickle\n",
    "import pickle as pkl\n",
    "with open('./preprocess/lipophilicity.pickle','rb') as f:\n",
    "    [data_san_mol, data_san_label, data_mean, data_std] = pkl.load(f)\n",
    "print(len(data_san_mol), len(data_san_label),data_mean, data_std)"
   ]
  },
  {
   "cell_type": "code",
   "execution_count": null,
   "metadata": {},
   "outputs": [],
   "source": []
  }
 ],
 "metadata": {
  "kernelspec": {
   "display_name": "Python 3",
   "language": "python",
   "name": "python3"
  },
  "language_info": {
   "codemirror_mode": {
    "name": "ipython",
    "version": 3
   },
   "file_extension": ".py",
   "mimetype": "text/x-python",
   "name": "python",
   "nbconvert_exporter": "python",
   "pygments_lexer": "ipython3",
   "version": "3.7.3"
  }
 },
 "nbformat": 4,
 "nbformat_minor": 2
}
